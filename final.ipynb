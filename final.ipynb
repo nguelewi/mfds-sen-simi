{
 "cells": [
  {
   "cell_type": "markdown",
   "source": [
    "# Project: Sentences similarity"
   ],
   "metadata": {
    "collapsed": false
   }
  },
  {
   "cell_type": "markdown",
   "source": [
    "## Team members:\n",
    "\n",
    "* Khanh Duong TRAN.\n",
    "* Brandon NGUELEWI TOUTSAP."
   ],
   "metadata": {
    "collapsed": false
   }
  },
  {
   "cell_type": "markdown",
   "source": [
    "## Goal: Compare two sentences similarity by calculating Cosine similarity\n",
    "### Main ideas:\n",
    "\n",
    "#### 1. Vectorize the sentences.\n",
    "#### 2. Calculate Cosine similarity.\n",
    "#### 3. Compare the similarity.\n",
    "#### 4. Visualization between the 2 vectors."
   ],
   "metadata": {
    "collapsed": false
   }
  },
  {
   "cell_type": "markdown",
   "source": [
    "### We will try to compare these two sentences:\n",
    "\n",
    " * \"The weather is hot today!\"\n",
    " * \"It is a hot day.\""
   ],
   "metadata": {
    "collapsed": false
   }
  },
  {
   "cell_type": "markdown",
   "source": [
    "#### Import libraries"
   ],
   "metadata": {
    "collapsed": false
   }
  },
  {
   "cell_type": "code",
   "execution_count": 54,
   "outputs": [
    {
     "name": "stderr",
     "output_type": "stream",
     "text": [
      "[nltk_data] Downloading package punkt to\n",
      "[nltk_data]     C:\\Users\\brand\\AppData\\Roaming\\nltk_data...\n",
      "[nltk_data]   Package punkt is already up-to-date!\n",
      "[nltk_data] Downloading package wordnet to\n",
      "[nltk_data]     C:\\Users\\brand\\AppData\\Roaming\\nltk_data...\n",
      "[nltk_data] Downloading package averaged_perceptron_tagger to\n",
      "[nltk_data]     C:\\Users\\brand\\AppData\\Roaming\\nltk_data...\n",
      "[nltk_data]   Unzipping taggers\\averaged_perceptron_tagger.zip.\n",
      "[nltk_data] Downloading package omw-1.4 to\n",
      "[nltk_data]     C:\\Users\\brand\\AppData\\Roaming\\nltk_data...\n"
     ]
    },
    {
     "data": {
      "text/plain": "True"
     },
     "execution_count": 54,
     "metadata": {},
     "output_type": "execute_result"
    }
   ],
   "source": [
    "import numpy as np\n",
    "import matplotlib.pyplot as plt\n",
    "import nltk\n",
    "from nltk.corpus import wordnet\n",
    "from nltk.stem import WordNetLemmatizer\n",
    "\n",
    "nltk.download('punkt')\n",
    "nltk.download('wordnet')\n",
    "nltk.download('averaged_perceptron_tagger')\n",
    "nltk.download('omw-1.4')"
   ],
   "metadata": {
    "collapsed": false,
    "ExecuteTime": {
     "end_time": "2023-07-29T19:03:54.536239900Z",
     "start_time": "2023-07-29T19:03:42.185382400Z"
    }
   }
  },
  {
   "cell_type": "markdown",
   "source": [
    "### Vectorize sentences\n",
    "\n",
    "#### Step includes:\n",
    "##### 1. Process the sentences.\n",
    "### comment: something\n",
    "##### 2. Tokenize the sentences.\n",
    "##### 3. Convert into array."
   ],
   "metadata": {
    "collapsed": false
   }
  },
  {
   "cell_type": "markdown",
   "source": [
    "##### Process the sentences:\n",
    "###### Step includes:\n",
    "\n",
    "###### 1. Remove non-word character such as punctuation, numbers, emojis, etc.\n",
    "###### 2. Remove redundant spaces.\n",
    "###### 3. Convert all to lower case."
   ],
   "metadata": {
    "collapsed": false
   }
  },
  {
   "cell_type": "code",
   "execution_count": 55,
   "outputs": [],
   "source": [
    "def process_sentence(sentence: str):\n",
    "    \"\"\" Preprocess the sentence before converting into array.\n",
    "\n",
    "    Argument:\n",
    "    sentence: The sentence we want to preprocess.\n",
    "\n",
    "    Output: Clean sentence.\n",
    "    \"\"\"\n",
    "    cleaned_sentence: str = \"\"\n",
    "    only_w: str = ''.join(char for char in sentence if char.isalpha() or char.isspace())\n",
    "    no_space: str = ' '.join(only_w.split())\n",
    "    to_lwer: str = no_space.lower()\n",
    "    cleaned_sentence = to_lwer\n",
    "\n",
    "    return cleaned_sentence"
   ],
   "metadata": {
    "collapsed": false,
    "ExecuteTime": {
     "end_time": "2023-07-29T19:03:54.579713200Z",
     "start_time": "2023-07-29T19:03:54.546431Z"
    }
   }
  },
  {
   "cell_type": "code",
   "execution_count": 56,
   "outputs": [],
   "source": [
    "#Test the function\n",
    "assert process_sentence(\"I haVe a nAme20\") == \"i have a name\""
   ],
   "metadata": {
    "collapsed": false,
    "ExecuteTime": {
     "end_time": "2023-07-29T19:03:54.595553200Z",
     "start_time": "2023-07-29T19:03:54.557927Z"
    }
   }
  },
  {
   "cell_type": "markdown",
   "source": [
    "##### Tokenize the sentences:\n",
    "###### Step includes:\n",
    "\n",
    "###### 1. Split the sentences into each word individually.\n",
    "###### 2. Lemmatize each word.\n",
    "###### 3. Create a vocabulary to vectorize."
   ],
   "metadata": {
    "collapsed": false
   }
  },
  {
   "cell_type": "code",
   "execution_count": 57,
   "outputs": [],
   "source": [
    "#Credit: ChatGPT\n",
    "def lemmatize_word(word):\n",
    "    \"\"\" Return the word into it most basic form.\n",
    "\n",
    "    Argument:\n",
    "    word: Word that needs to be reduced into most basic form.\n",
    "    \"\"\"\n",
    "    lemmatizer = WordNetLemmatizer()\n",
    "\n",
    "    tag = nltk.pos_tag([word])[0][1][0].lower()\n",
    "    tag_dict = {\"a\": wordnet.ADJ,\n",
    "                \"n\": wordnet.NOUN,\n",
    "                \"v\": wordnet.VERB,\n",
    "                \"r\": wordnet.ADV}\n",
    "    return lemmatizer.lemmatize(word, tag_dict.get(tag, wordnet.NOUN))"
   ],
   "metadata": {
    "collapsed": false,
    "ExecuteTime": {
     "end_time": "2023-07-29T19:03:54.597759700Z",
     "start_time": "2023-07-29T19:03:54.576701100Z"
    }
   }
  },
  {
   "cell_type": "code",
   "execution_count": 58,
   "outputs": [],
   "source": [
    "def create_vocab(words_list):\n",
    "    \"\"\" Return a dictionary of vocabulary for a list of words\n",
    "\n",
    "    Argument:\n",
    "    sentence: List of words that we want to create a dictionary of vocabulary.\n",
    "    \"\"\"\n",
    "    lemmatized_list_of_word = [lemmatize_word(word) for word in words_list]\n",
    "\n",
    "    unique_word_set: set = set(sorted(lemmatized_list_of_word))\n",
    "    vocab: dict = {word: index for index, word in enumerate(unique_word_set)}\n",
    "\n",
    "    return vocab"
   ],
   "metadata": {
    "collapsed": false,
    "ExecuteTime": {
     "end_time": "2023-07-29T19:03:54.600592500Z",
     "start_time": "2023-07-29T19:03:54.589854Z"
    }
   }
  },
  {
   "cell_type": "code",
   "execution_count": 59,
   "outputs": [],
   "source": [
    "vocab = create_vocab([\"apple\", \"banana\", \"apple\", \"orange\", \"grape\", \"banana\"])\n",
    "vocab_2 = create_vocab([\"studying\", \"watching\", \"was\"])\n",
    "\n",
    "assert 'apple' in vocab\n",
    "assert 'orange' in vocab\n",
    "assert 'pear' not in vocab\n",
    "\n",
    "assert \"study\" in vocab_2\n",
    "assert \"watch\" in vocab_2\n",
    "assert \"be\" in vocab_2"
   ],
   "metadata": {
    "collapsed": false,
    "ExecuteTime": {
     "end_time": "2023-07-29T19:03:57.495647400Z",
     "start_time": "2023-07-29T19:03:54.610676800Z"
    }
   }
  },
  {
   "cell_type": "markdown",
   "source": [
    "##### Convert into array:\n",
    "###### Base on the created vocabulary to convert a sentence into an array"
   ],
   "metadata": {
    "collapsed": false
   }
  },
  {
   "cell_type": "code",
   "execution_count": 60,
   "outputs": [],
   "source": [
    "def vectorize(words_list, vocabulary):\n",
    "    \"\"\" Return the vector of the sentence.\n",
    "\n",
    "    Argument:\n",
    "    words_list: list of word to make a vector.\n",
    "    vocabulary: a dictionary of vocabulary from the sentences.\n",
    "    \"\"\"\n",
    "    sentence_vector: np.ndarray = np.zeros(len(vocabulary))\n",
    "\n",
    "    for word in words_list:\n",
    "        if word in vocabulary:\n",
    "            sentence_vector[vocabulary[word]] += 1\n",
    "\n",
    "    return sentence_vector"
   ],
   "metadata": {
    "collapsed": false,
    "ExecuteTime": {
     "end_time": "2023-07-29T19:03:57.513835600Z",
     "start_time": "2023-07-29T19:03:57.505011400Z"
    }
   }
  },
  {
   "cell_type": "code",
   "execution_count": 61,
   "outputs": [],
   "source": [
    "assert np.array_equal(vectorize([\"apple\", \"banana\", \"apple\", \"orange\", \"grape\", \"banana\"], {'apple': 0, 'banana': 1, 'grape': 2, 'orange': 3}), np.array([2, 2, 1, 1]))"
   ],
   "metadata": {
    "collapsed": false,
    "ExecuteTime": {
     "end_time": "2023-07-29T19:03:57.542059500Z",
     "start_time": "2023-07-29T19:03:57.513835600Z"
    }
   }
  },
  {
   "cell_type": "markdown",
   "source": [
    "#### Putting all together for vectorizing the sentences\n",
    "##### This section summarizes all the previous steps before proceeding to the Cosine similarity calculation."
   ],
   "metadata": {
    "collapsed": false
   }
  },
  {
   "cell_type": "code",
   "execution_count": 62,
   "outputs": [],
   "source": [
    "def process_sentence(sentence):\n",
    "    \"\"\" Preprocess the sentence and convert into an array of words.\n",
    "\n",
    "    Argument:\n",
    "    sentence: The sentence we want to preprocess.\n",
    "\n",
    "    Output: Array of words.\n",
    "    \"\"\"\n",
    "\n",
    "    #Remove non-word\n",
    "    cleaned_sentence: str = ''.join(char for char in sentence if char.isalpha() or char.isspace())\n",
    "\n",
    "    #Remove redundant whitespaces\n",
    "    cleaned_sentence = ' '.join(cleaned_sentence.split())\n",
    "\n",
    "    #Convert to lowercase\n",
    "    cleaned_sentence = cleaned_sentence.lower()\n",
    "\n",
    "    return cleaned_sentence.split()\n",
    "\n",
    "def lemmatize_word(word):\n",
    "    \"\"\" Return the word into it most basic form.\n",
    "\n",
    "    Argument:\n",
    "    word: Word that needs to be reduced into most basic form.\n",
    "    \"\"\"\n",
    "    lemmatizer = WordNetLemmatizer()\n",
    "\n",
    "    tag = nltk.pos_tag([word])[0][1][0].lower()\n",
    "    tag_dict = {\"a\": wordnet.ADJ,\n",
    "                \"n\": wordnet.NOUN,\n",
    "                \"v\": wordnet.VERB,\n",
    "                \"r\": wordnet.ADV}\n",
    "    return lemmatizer.lemmatize(word, tag_dict.get(tag, wordnet.NOUN))\n",
    "\n",
    "def create_vocab(sentences):\n",
    "    \"\"\" Return a dictionary of vocabulary from two sentences\n",
    "\n",
    "    Argument:\n",
    "    sentences: List of sentences that we want to create a dictionary of vocabulary.\n",
    "    \"\"\"\n",
    "\n",
    "    words = []\n",
    "    for sentence in sentences:\n",
    "        words_arr: np.ndarray = process_sentence(sentence)\n",
    "        words += words_arr\n",
    "\n",
    "    lemmatized_list_of_word = [lemmatize_word(word) for word in words]\n",
    "\n",
    "    unique_word_set: set = set(sorted(lemmatized_list_of_word))\n",
    "    vocab: dict = {word: index for index, word in enumerate(unique_word_set)}\n",
    "\n",
    "    return vocab\n",
    "\n",
    "def vectorize(sentence, vocabulary):\n",
    "    \"\"\" Return the vector of the sentence.\n",
    "\n",
    "    Argument:\n",
    "    sentence: The sentence we want to vectorize.\n",
    "    vocabulary: A dictionary of vocabulary from the predefined sentences.\n",
    "    \"\"\"\n",
    "    sentence_vector: np.ndarray = np.zeros(len(vocabulary))\n",
    "\n",
    "    words_list: np.ndarray = process_sentence(sentence)\n",
    "    for word in words_list:\n",
    "        if word in vocabulary:\n",
    "            sentence_vector[vocabulary[word]] += 1\n",
    "\n",
    "    return sentence_vector"
   ],
   "metadata": {
    "collapsed": false,
    "ExecuteTime": {
     "end_time": "2023-07-29T19:03:57.560499500Z",
     "start_time": "2023-07-29T19:03:57.531832100Z"
    }
   }
  },
  {
   "cell_type": "code",
   "execution_count": 63,
   "outputs": [
    {
     "name": "stdout",
     "output_type": "stream",
     "text": [
      "{'it': 0, 'be': 1, 'day': 2, 'the': 3, 'weather': 4, 'hot': 5, 'today': 6, 'a': 7}\n",
      "[0. 0. 0. 1. 1. 1. 1. 0.]\n",
      "[1. 0. 1. 0. 0. 1. 0. 1.]\n"
     ]
    }
   ],
   "source": [
    "sentence_1 = \"The weather is hot today!\"\n",
    "sentence_2 = \"It is a hot day.\"\n",
    "sentences = np.array([sentence_1, sentence_2])\n",
    "\n",
    "vocabulary = create_vocab(sentences)\n",
    "print(vocabulary)\n",
    "\n",
    "print(vectorize(sentence_1, vocabulary))\n",
    "print(vectorize(sentence_2, vocabulary))"
   ],
   "metadata": {
    "collapsed": false,
    "ExecuteTime": {
     "end_time": "2023-07-29T19:03:57.591439400Z",
     "start_time": "2023-07-29T19:03:57.568928900Z"
    }
   }
  },
  {
   "cell_type": "code",
   "execution_count": 64,
   "outputs": [],
   "source": [
    "vector_1 = vectorize(sentence_1, vocabulary)\n",
    "vector_2 = vectorize(sentence_2, vocabulary)"
   ],
   "metadata": {
    "collapsed": false,
    "ExecuteTime": {
     "end_time": "2023-07-29T19:03:57.608283500Z",
     "start_time": "2023-07-29T19:03:57.591439400Z"
    }
   }
  },
  {
   "cell_type": "markdown",
   "source": [
    "## Calculate Cosine similarity\n",
    "\n",
    "### The formula is:\n",
    "\n",
    "$$\n",
    "\\cos(θ) =  \\frac{A \\cdot B}{\\|A\\| \\times \\|B\\|}\n",
    "$$"
   ],
   "metadata": {
    "collapsed": false
   }
  },
  {
   "cell_type": "markdown",
   "source": [
    "### Calculate the dot product of two vectors"
   ],
   "metadata": {
    "collapsed": false
   }
  },
  {
   "cell_type": "code",
   "execution_count": 65,
   "outputs": [],
   "source": [
    "def calculate_dot_product(vector1, vector2):\n",
    "    \"\"\" Return the dot product of two vectors.\n",
    "\n",
    "    Argument:\n",
    "    vector1 and vector2: two vectors.\n",
    "    \"\"\"\n",
    "    dot_product: float = 0\n",
    "\n",
    "    #Formula: dot = a1*b1 + a2*b2 ... + an*bn, with n is the size of the array.\n",
    "    dot_product = sum(vector1[i] * vector2[i] for i in range(len(vector1)))\n",
    "\n",
    "    return dot_product"
   ],
   "metadata": {
    "collapsed": false,
    "ExecuteTime": {
     "end_time": "2023-07-29T19:03:57.665942200Z",
     "start_time": "2023-07-29T19:03:57.612953700Z"
    }
   }
  },
  {
   "cell_type": "code",
   "execution_count": 66,
   "outputs": [],
   "source": [
    "assert calculate_dot_product(vector_1, vector_2) == np.dot(vector_1, vector_2)"
   ],
   "metadata": {
    "collapsed": false,
    "ExecuteTime": {
     "end_time": "2023-07-29T19:03:57.676333600Z",
     "start_time": "2023-07-29T19:03:57.629451700Z"
    }
   }
  },
  {
   "cell_type": "markdown",
   "source": [
    "### Calculate the norm of the vectors"
   ],
   "metadata": {
    "collapsed": false
   }
  },
  {
   "cell_type": "code",
   "execution_count": 67,
   "outputs": [],
   "source": [
    "def calculate_norm(vector):\n",
    "    \"\"\" Return the norm of a vector.\n",
    "\n",
    "    Argument:\n",
    "    vector: Vector we want to calculate the norm.\n",
    "    \"\"\"\n",
    "\n",
    "    #Formula: squared root of the sum squared of all elements in an array.\n",
    "    sum_ele: int = sum(vector[i] ** 2 for i in range(len(vector)))\n",
    "    return np.sqrt(sum_ele)"
   ],
   "metadata": {
    "collapsed": false,
    "ExecuteTime": {
     "end_time": "2023-07-29T19:03:57.676333600Z",
     "start_time": "2023-07-29T19:03:57.644280Z"
    }
   }
  },
  {
   "cell_type": "code",
   "execution_count": 68,
   "outputs": [],
   "source": [
    "assert calculate_norm(vector_2) == np.linalg.norm(vector_2)"
   ],
   "metadata": {
    "collapsed": false,
    "ExecuteTime": {
     "end_time": "2023-07-29T19:03:57.676333600Z",
     "start_time": "2023-07-29T19:03:57.652486100Z"
    }
   }
  },
  {
   "cell_type": "markdown",
   "source": [
    "### Finally, calculate the cosine similarity"
   ],
   "metadata": {
    "collapsed": false
   }
  },
  {
   "cell_type": "code",
   "execution_count": 69,
   "outputs": [],
   "source": [
    "def cosine_similarity(vector1, vector2):\n",
    "    \"\"\" Return the cosine similarity of two vectors.\n",
    "\n",
    "    Argument:\n",
    "    vector1 and vector2: vectors to calculate.\n",
    "    \"\"\"\n",
    "    dot: int = calculate_dot_product(vector1, vector2)\n",
    "    norm_multi: float = calculate_norm(vector1) * calculate_norm(vector2)\n",
    "\n",
    "    cosine: float = dot / norm_multi\n",
    "    cosine_percentage = cosine * 100\n",
    "    return cosine_percentage"
   ],
   "metadata": {
    "collapsed": false,
    "ExecuteTime": {
     "end_time": "2023-07-29T19:03:57.691515100Z",
     "start_time": "2023-07-29T19:03:57.676333600Z"
    }
   }
  },
  {
   "cell_type": "code",
   "execution_count": 70,
   "outputs": [
    {
     "data": {
      "text/plain": "25.0"
     },
     "execution_count": 70,
     "metadata": {},
     "output_type": "execute_result"
    }
   ],
   "source": [
    "similitude = cosine_similarity(vector_1, vector_2)\n",
    "similitude"
   ],
   "metadata": {
    "collapsed": false,
    "ExecuteTime": {
     "end_time": "2023-07-29T19:03:57.776850900Z",
     "start_time": "2023-07-29T19:03:57.691515100Z"
    }
   }
  },
  {
   "cell_type": "markdown",
   "source": [
    "## Compare\n",
    "\n",
    "### We define the threshold for the similarity is 0.5."
   ],
   "metadata": {
    "collapsed": false
   }
  },
  {
   "cell_type": "markdown",
   "source": [
    "## Visualization"
   ],
   "metadata": {
    "collapsed": false
   }
  },
  {
   "cell_type": "code",
   "execution_count": 71,
   "outputs": [],
   "source": [
    "def visualize_2_vectors(vector_1, vector_2, similitude):\n",
    "    \"\"\" Visualize the two vectors onto a 2-D dimension space with an angle in between.\n",
    "\n",
    "    Argument:\n",
    "    vector_1 and vector_2: The two vectors we want to visualize.\n",
    "    similitude: The calculated Cosine similarity\n",
    "    \"\"\"\n",
    "    angle_rad = np.arccos(similitude/100)\n",
    "    angle_deg = np.degrees(angle_rad)\n",
    "\n",
    "    plt.figure(figsize=(6, 6))\n",
    "\n",
    "    # Plot Vector 1 as an arrow\n",
    "    plt.arrow(0, 0, vector_1[0], vector_1[1], color='blue', width=0.05, label='Vector 1', alpha=0.5)\n",
    "    # Plot Vector 2 as an arrow\n",
    "    plt.arrow(0, 0, vector_2[0], vector_2[1], color='orange', width=0.05, label='Vector 2', alpha=0.5)\n",
    "\n",
    "    plt.xlim(-0.5, 1.5)\n",
    "    plt.ylim(-0.5, 1.5)\n",
    "\n",
    "    # Add the angle between vectors as text annotation\n",
    "    plt.text(0.1, 1.2, f'Angle: {angle_deg:.2f}°', fontsize=12)\n",
    "\n",
    "    plt.xlabel('Dimension 1')\n",
    "    plt.ylabel('Dimension 2')\n",
    "    plt.title('Vector Representation and Angle')\n",
    "    plt.legend()\n",
    "    plt.grid(True)\n",
    "    plt.tight_layout()\n",
    "\n",
    "    plt.show()"
   ],
   "metadata": {
    "collapsed": false,
    "ExecuteTime": {
     "end_time": "2023-07-29T19:03:57.781220100Z",
     "start_time": "2023-07-29T19:03:57.703439200Z"
    }
   }
  },
  {
   "cell_type": "code",
   "execution_count": 72,
   "outputs": [
    {
     "data": {
      "text/plain": "<Figure size 600x600 with 1 Axes>",
      "image/png": "[encoded data removed]"
     },
     "metadata": {},
     "output_type": "display_data"
    }
   ],
   "source": [
    "visualize_2_vectors(vector_1, vector_2, similitude)"
   ],
   "metadata": {
    "collapsed": false,
    "ExecuteTime": {
     "end_time": "2023-07-29T19:03:58.199812Z",
     "start_time": "2023-07-29T19:03:57.737194600Z"
    }
   }
  },
  {
   "cell_type": "markdown",
   "source": [
    "## An interactive way that can take user input to compare"
   ],
   "metadata": {
    "collapsed": false
   }
  },
  {
   "cell_type": "code",
   "execution_count": 73,
   "outputs": [
    {
     "name": "stdout",
     "output_type": "stream",
     "text": [
      "this is my firstg sentence.\n",
      "this is second\n"
     ]
    }
   ],
   "source": [
    "sen_1: str = input(\"Enter your first sentence: \")\n",
    "sen_2: str = input(\"Enter your second sentence: \")\n",
    "arr_sens: np.ndarray = np.array([sen_1, sen_2])\n",
    "\n",
    "print(sen_1)\n",
    "print(sen_2)"
   ],
   "metadata": {
    "collapsed": false,
    "ExecuteTime": {
     "end_time": "2023-07-29T19:04:27.811241Z",
     "start_time": "2023-07-29T19:03:58.205341Z"
    }
   }
  },
  {
   "cell_type": "code",
   "execution_count": 74,
   "outputs": [
    {
     "name": "stdout",
     "output_type": "stream",
     "text": [
      "35.35533905932737\n"
     ]
    }
   ],
   "source": [
    "user_input_vocab: dict = create_vocab(arr_sens)\n",
    "\n",
    "vec_1 = vectorize(sen_1, user_input_vocab)\n",
    "vec_2 = vectorize(sen_2, user_input_vocab)\n",
    "\n",
    "similarity: float = cosine_similarity(vec_1, vec_2)\n",
    "print(similarity)"
   ],
   "metadata": {
    "collapsed": false,
    "ExecuteTime": {
     "end_time": "2023-07-29T19:04:27.812658900Z",
     "start_time": "2023-07-29T19:04:27.776746200Z"
    }
   }
  },
  {
   "cell_type": "code",
   "execution_count": 75,
   "outputs": [
    {
     "data": {
      "text/plain": "<Figure size 600x600 with 1 Axes>",
      "image/png": "[encoded data removed]"
     },
     "metadata": {},
     "output_type": "display_data"
    }
   ],
   "source": [
    "visualize_2_vectors(vec_1, vec_2, similarity)"
   ],
   "metadata": {
    "collapsed": false,
    "ExecuteTime": {
     "end_time": "2023-07-29T19:04:29.013330300Z",
     "start_time": "2023-07-29T19:04:27.799703200Z"
    }
   }
  }
 ],
 "metadata": {
  "kernelspec": {
   "display_name": "Python 3",
   "language": "python",
   "name": "python3"
  },
  "language_info": {
   "codemirror_mode": {
    "name": "ipython",
    "version": 2
   },
   "file_extension": ".py",
   "mimetype": "text/x-python",
   "name": "python",
   "nbconvert_exporter": "python",
   "pygments_lexer": "ipython2",
   "version": "2.7.6"
  }
 },
 "nbformat": 4,
 "nbformat_minor": 0
}
